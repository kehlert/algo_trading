{
 "cells": [
  {
   "cell_type": "markdown",
   "metadata": {},
   "source": [
    "# Re-creating the optimal exit triggers figure (pg. 279)"
   ]
  },
  {
   "cell_type": "code",
   "execution_count": 2,
   "metadata": {},
   "outputs": [
    {
     "data": {
      "image/png": "[encoded data removed]",
      "text/plain": [
       "<Figure size 432x288 with 1 Axes>"
      ]
     },
     "metadata": {
      "needs_background": "light"
     },
     "output_type": "display_data"
    }
   ],
   "source": [
    "import numpy as np\n",
    "import scipy.integrate as integrate\n",
    "import matplotlib.pyplot as plt\n",
    "from scipy import optimize\n",
    "\n",
    "theta = 0.0\n",
    "sigma = 0.5\n",
    "c = 0.01\n",
    "k = 0.5\n",
    "rho = 0.01\n",
    "integral_upper_lim = 10**3\n",
    "\n",
    "def F_plus(eps):\n",
    "    c1 = rho / k - 1.0\n",
    "    c2 = np.sqrt(2 * k / sigma**2) * (theta - eps)\n",
    "    integrand = lambda u: np.power(u, c1) * np.exp(-c2 * u - u**2 / 2)\n",
    "    return integrate.quad(integrand, 0, integral_upper_lim)[0]\n",
    "\n",
    "def F_plus_prime(eps):\n",
    "    c1 = rho / k\n",
    "    c2 = np.sqrt(2 * k / sigma**2) * (theta - eps)\n",
    "    integrand = lambda u: np.power(u, c1) * np.sqrt(2 * k / sigma**2) * np.exp(-c2 * u - u**2 / 2)\n",
    "    return integrate.quad(integrand, 0, integral_upper_lim)[0]\n",
    "\n",
    "eps_star = optimize.root_scalar(lambda eps: (eps - c) * F_plus_prime(eps) - F_plus(eps),\n",
    "                                method='brentq',\n",
    "                                x0=0.5,\n",
    "                                bracket=[0,2]).root\n",
    "\n",
    "def H_plus(eps):\n",
    "    A = (eps_star - c) / F_plus(eps_star)\n",
    "    \n",
    "    if eps < eps_star:\n",
    "        return A * F_plus(eps)\n",
    "    else:\n",
    "        return eps - c\n",
    "    \n",
    "eps_max = 1.2 #chosen to match the scale of the book's figure\n",
    "\n",
    "all_eps = np.linspace(0, eps_max, 101)\n",
    "all_H_plus = np.array([H_plus(eps) for eps in all_eps])\n",
    "plt.plot(all_eps, all_H_plus)\n",
    "\n",
    "#try to match the scale of the book's figures\n",
    "plt.ylim([0, 1.5])\n",
    "plt.xlim([0, eps_max])\n",
    "\n",
    "plt.show()"
   ]
  },
  {
   "cell_type": "code",
   "execution_count": null,
   "metadata": {},
   "outputs": [],
   "source": []
  },
  {
   "cell_type": "code",
   "execution_count": null,
   "metadata": {},
   "outputs": [],
   "source": []
  }
 ],
 "metadata": {
  "kernelspec": {
   "display_name": "Python 3",
   "language": "python",
   "name": "python3"
  },
  "language_info": {
   "codemirror_mode": {
    "name": "ipython",
    "version": 3
   },
   "file_extension": ".py",
   "mimetype": "text/x-python",
   "name": "python",
   "nbconvert_exporter": "python",
   "pygments_lexer": "ipython3",
   "version": "3.7.1"
  }
 },
 "nbformat": 4,
 "nbformat_minor": 2
}
